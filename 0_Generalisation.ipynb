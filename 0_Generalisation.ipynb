{
 "cells": [
  {
   "cell_type": "markdown",
   "id": "2350a36c-f1d0-49e1-bb6f-d49cc92f02d8",
   "metadata": {},
   "source": [
    "# 0_Generalisation.ipynb — Extensive Description\n",
    "\n",
    "## Purpose\n",
    "\n",
    "This notebook is focused on exploring and implementing the process of merging subgenres into main genres within the FMA (Free Music Archive) dataset. The goal is to increase the number of usable labeled tracks by generalizing ambiguous or missing genre labels using subgenre information.\n",
    "\n",
    "## Workflow and Major Steps\n",
    "\n",
    "1. Notebook Summary and Objective\n",
    "\n",
    "    The notebook opens with a markdown summary:\n",
    "\n",
    "        “This notebook is the exploration of mashing subgenre into genres in FMA dataset to gather more data.”\n",
    "\n",
    "    It sets the context that the main objective is to increase dataset size for downstream machine learning by re-assigning tracks from subgenres to the main genres.\n",
    "\n",
    "2. Imports and Utilities\n",
    "\n",
    "    Common data science libraries (such as matplotlib) and custom utilities from the repo (utils.import_data_science) are imported to provide a consistent environment for data loading, manipulation, and visualization.\n",
    "\n",
    "3. Dataset Inspection\n",
    "\n",
    "    The notebook demonstrates directory listing within the metadata directory to explore available files such as tracks.csv, genres.csv, raw_genres.csv, and other relevant CSV and parquet files.\n",
    "    This phase ensures that the necessary metadata is present for further processing.\n",
    "\n",
    "4. Subgenre Analysis\n",
    "\n",
    "    The notebook contains code and output cells that investigate the mapping and quantity of subgenres per main genre.\n",
    "    For example, it may print or plot “Subgenres amount for each genre,” helping the user understand the granularity and redundancy in genre labeling.\n",
    "\n",
    "5. Generalization Logic\n",
    "\n",
    "    The code proceeds to examine tracks with missing or ambiguous main genre labels.\n",
    "    It uses information from subgenres (possibly parsing raw_genres.csv and tracks.csv) to infer and assign a main genre where possible.\n",
    "    Functions from utils are likely used to facilitate this mapping and transformation.\n",
    "\n",
    "6. Data Validation and Visualization\n",
    "\n",
    "    The notebook likely displays statistics before and after the generalization process:\n",
    "        Number of tracks with missing genres\n",
    "        Number of tracks successfully relabeled after generalization\n",
    "        Genre distribution plots before and after the operation\n",
    "    Visualization with matplotlib is used for clear comparison and reporting.\n",
    "\n",
    "7. Saving Outputs\n",
    "\n",
    "    After successful generalization, the notebook saves the cleaned and enriched dataset as CSV or Parquet files (e.g., tracks_clean.csv, tracks_clean_25-05-28-1908.parquet).\n",
    "    These outputs are used in subsequent steps of the pipeline (such as audio extraction and feature engineering).\n",
    "\n",
    "8. Comments and Reporting\n",
    "\n",
    "    Markdown and code comments explain the reasoning and impact of each step, such as why certain genres are grouped, or what the resulting class balance is.\n",
    "    There is a focus on transparency and reproducibility, allowing others to understand and repeat the generalization process.\n",
    "\n",
    "Key Features\n",
    "\n",
    "    Exploratory and Reproducible: The notebook is written for iterative data analysis, allowing for step-by-step inspection and adjustment.\n",
    "    Visualization: Uses matplotlib for bar charts and other plots to show genre distributions and the effect of generalization.\n",
    "    Integration: Outputs are compatible with next steps in the pipeline, providing foundational data for audio transformation and model training.\n",
    "    Documentation: Markdown cells and code comments make the workflow transparent and easy to follow for new collaborators or reviewers.\n"
   ]
  },
  {
   "cell_type": "code",
   "execution_count": 5,
   "id": "3e664f5e-1eb9-440e-bcfa-1313fac356e9",
   "metadata": {},
   "outputs": [],
   "source": [
    "import os\n",
    "import notebook_utilities\n",
    "import matplotlib.pyplot as plt\n",
    "notebook_utilities.import_data_science(globals())\n",
    "\n",
    "metadata_dir = os.path.join(\"/\", \"mnt\", \"e\", \"fma_metadata\")"
   ]
  },
  {
   "cell_type": "code",
   "execution_count": 6,
   "id": "540c9cef-cbc8-4b6f-89d8-7e2df81442b1",
   "metadata": {},
   "outputs": [
    {
     "data": {
      "text/plain": [
       "['capitmn.mp3',\n",
       " 'echonest.csv',\n",
       " 'features.csv',\n",
       " 'gang_starr.mp3',\n",
       " 'genres.csv',\n",
       " 'not_found.pickle',\n",
       " 'raw_albums.csv',\n",
       " 'raw_artists.csv',\n",
       " 'raw_echonest.csv',\n",
       " 'raw_genres.csv',\n",
       " 'raw_tracks.csv',\n",
       " 'README.txt',\n",
       " 'records_ready.csv',\n",
       " 'records_ready.parquet',\n",
       " 'tfz.mp3',\n",
       " 'tracks.csv']"
      ]
     },
     "execution_count": 6,
     "metadata": {},
     "output_type": "execute_result"
    }
   ],
   "source": [
    "os.listdir(metadata_dir) # should contain fma_metadata folder"
   ]
  },
  {
   "cell_type": "code",
   "execution_count": 8,
   "id": "d860d357-6215-42e7-b2c6-389e1d91a31d",
   "metadata": {},
   "outputs": [
    {
     "name": "stdout",
     "output_type": "stream",
     "text": [
      "Subgenres amount for each genre\n",
      "{'Rock': 15, 'Electronic': 14, 'Hip-Hop': 7, 'Classical': 7, 'Pop': 2}\n"
     ]
    }
   ],
   "source": [
    "# reading genres\n",
    "genres = pd.read_csv(f\"{metadata_dir}/raw_genres.csv\", low_memory=False)\n",
    "\n",
    "# selecting Rock, Classical, Electronic, Hip-hop and Pop as per genre_parent_id\n",
    "target_genres = genres[genres['genre_parent_id'].isin([12,10,5,21,15])]\n",
    "\n",
    "genres        = genres.rename(columns={\"genre_id\":\"gid\"})\n",
    "target_genres = target_genres.rename(columns={\"genre_parent_id\":\"gid\"})\n",
    "\n",
    "genres['gid']    = genres['gid'].astype('Int64')\n",
    "target_genres['gid'] = target_genres['gid'].astype('Int64')\n",
    "\n",
    "genres['gid'] = genres['gid'] - 1\n",
    "target_genres['gid'] = target_genres['gid'] - 1\n",
    "\n",
    "columns_of_interest = ['genre_id', 'genre_handle', 'genre_title', 'genre_handle_parent', 'genre_title_parent']\n",
    "\n",
    "genres_with_subgenres = target_genres.join(genres, on=\"gid\", rsuffix=\"_parent\")[columns_of_interest]\n",
    "\n",
    "# Count of higher level genres for each subgenre\n",
    "subgenres_value_counts = genres_with_subgenres['genre_title_parent'].value_counts().to_dict()\n",
    "# genres_with_subgenres\n",
    "\n",
    "print(\"Subgenres amount for each genre\")\n",
    "print(subgenres_value_counts)\n"
   ]
  },
  {
   "cell_type": "code",
   "execution_count": 9,
   "id": "94aa98b0",
   "metadata": {},
   "outputs": [
    {
     "data": {
      "image/png": "[encoded data removed]",
      "text/plain": [
       "<Figure size 800x500 with 1 Axes>"
      ]
     },
     "metadata": {},
     "output_type": "display_data"
    }
   ],
   "source": [
    "grouped = genres_with_subgenres[['genre_title', 'genre_title_parent']].groupby('genre_title_parent')['genre_title'].apply(list)\n",
    "genre_counts = grouped.apply(len).sort_values()\n",
    "\n",
    "\n",
    "\n",
    "plt.figure(figsize=(8, 5))\n",
    "genre_counts.plot(kind='barh', color='lightcoral')\n",
    "plt.xlabel('Number of Subgenres')\n",
    "plt.title('Subgenre Count per Parent Genre')\n",
    "plt.tight_layout()\n",
    "plt.show()"
   ]
  },
  {
   "cell_type": "code",
   "execution_count": 10,
   "id": "012b6eab-5647-4260-ab81-4591fd680b24",
   "metadata": {},
   "outputs": [
    {
     "name": "stdout",
     "output_type": "stream",
     "text": [
      "Amount of tracks with main genre in following genres:\n",
      "'Rock', 'Electronic', 'Hip-Hop', 'Pop', 'Classical\n",
      "30668\n"
     ]
    }
   ],
   "source": [
    "tracks = pd.read_csv(f\"{metadata_dir}/tracks.csv\",\n",
    "                     low_memory=False,\n",
    "                    skiprows=1)\n",
    "\n",
    "target_ready_tracks = tracks[tracks['genre_top'].isin(['Rock', 'Electronic', 'Hip-Hop', 'Pop', 'Classical'])]\n",
    "\n",
    "\n",
    "print(\"Amount of tracks with main genre in following genres:\\n'Rock', 'Electronic', 'Hip-Hop', 'Pop', 'Classical\")\n",
    "print(target_ready_tracks.shape[0])\n",
    "\n"
   ]
  },
  {
   "cell_type": "code",
   "execution_count": 11,
   "id": "ad68e4c0-e10a-4c5b-b722-75a531c5c8f7",
   "metadata": {},
   "outputs": [
    {
     "name": "stdout",
     "output_type": "stream",
     "text": [
      "Class balance\n",
      "{'Rock': '46.24%', 'Electronic': '30.56%', 'Hip-Hop': '11.58%', 'Pop': '7.60%', 'Classical': '4.01%'}\n",
      "Labeled tracks per genre\n",
      "{'Rock': 14182, 'Electronic': 9372, 'Hip-Hop': 3552, 'Pop': 2332, 'Classical': 1230}\n"
     ]
    }
   ],
   "source": [
    "amounts = target_ready_tracks['genre_top'].value_counts().to_dict()\n",
    "percentages_series = (target_ready_tracks['genre_top'].value_counts() / target_ready_tracks.shape[0] * 100).to_dict()\n",
    "formatted = {\n",
    "    k: f\"{v:.2f}%\" for k, v in percentages_series.items()\n",
    "}\n",
    "\n",
    "print(\"Class balance\")\n",
    "print(formatted)\n",
    "\n",
    "print(\"Labeled tracks per genre\")\n",
    "print(amounts)\n"
   ]
  },
  {
   "cell_type": "code",
   "execution_count": 12,
   "id": "2b2df79f-7550-49f8-9475-d83f82094467",
   "metadata": {},
   "outputs": [
    {
     "name": "stdout",
     "output_type": "stream",
     "text": [
      "count of tracks without main genre, but labeled with subgenres\n",
      "56976\n"
     ]
    }
   ],
   "source": [
    "empty_genre_top = tracks[tracks['genre_top'].isnull() & tracks['genres'].notnull()]\n",
    "\n",
    "print(\"count of tracks without main genre, but labeled with subgenres\")\n",
    "print(empty_genre_top[['genre_top', 'genres']].shape[0])"
   ]
  },
  {
   "cell_type": "code",
   "execution_count": 13,
   "id": "7cfe8584",
   "metadata": {},
   "outputs": [
    {
     "data": {
      "image/png": "[encoded data removed]",
      "text/plain": [
       "<Figure size 600x600 with 1 Axes>"
      ]
     },
     "metadata": {},
     "output_type": "display_data"
    }
   ],
   "source": [
    "total = tracks.shape[0]\n",
    "target_ready = target_ready_tracks.shape[0]\n",
    "empty_genre_top_counts = empty_genre_top[['genre_top', 'genres']].shape[0]\n",
    "\n",
    "labels = ['genre_top ready', 'Empty genre_top + genres', 'other genres']\n",
    "values = [\n",
    "    target_ready,\n",
    "    empty_genre_top_counts,\n",
    "    total - target_ready - empty_genre_top_counts\n",
    "]\n",
    "\n",
    "colors = ['#4CAF50', '#FF5722', '#9E9E9E']\n",
    "plt.figure(figsize=(6, 6))\n",
    "plt.pie(values, labels=labels, autopct='%1.1f%%', colors=colors, startangle=140)\n",
    "plt.title('Track Distribution')\n",
    "plt.axis('equal')  # Makes the pie circular\n",
    "plt.tight_layout()\n",
    "plt.show()"
   ]
  },
  {
   "cell_type": "code",
   "execution_count": 14,
   "id": "c8ceb454-8ffc-4411-b076-38dc0c756b66",
   "metadata": {},
   "outputs": [
    {
     "name": "stdout",
     "output_type": "stream",
     "text": [
      "new tracks from genre generalisation:\n",
      "{'Electronic': 4870, 'Rock': 4820, 'Hip-Hop': 1272, 'Classical': 433, 'Pop': 355}\n",
      "summed:\n",
      "11750\n"
     ]
    }
   ],
   "source": [
    "genres_with_subgenres.set_index('genre_id')\n",
    "\n",
    "value_counts = {\n",
    "        'Pop': 0,\n",
    "        'Rock': 0,\n",
    "        'Electronic': 0,\n",
    "        'Hip-Hop':0,\n",
    "        'Classical':0\n",
    "        }\n",
    "\n",
    "import re\n",
    "def extract_subgenres(a: str):\n",
    "    vals = []\n",
    "    for i in re.findall(r'\\d+', a):\n",
    "        vals.append(int(i))\n",
    "    return vals\n",
    "\n",
    "def get_parent_genre(raw_genres):\n",
    "\n",
    "    \"\"\"\n",
    "    raw_genres  =   25\n",
    "                    26\n",
    "                    27\n",
    "                    31, 42\n",
    "                    36, 105\n",
    "\n",
    "\n",
    "    \"\"\"\n",
    "\n",
    "    subgenres = extract_subgenres(raw_genres)\n",
    "    \n",
    "    for sub in subgenres:\n",
    "        exists = genres_with_subgenres[genres_with_subgenres['genre_id'].eq(sub)]\n",
    "        \n",
    "        if not exists.empty:\n",
    "            let = exists['genre_title_parent'].iloc[0]\n",
    "            if let in value_counts.keys():\n",
    "                value_counts[let] += 1\n",
    "            return let\n",
    "            break\n",
    "            \n",
    "        else:\n",
    "            return None\n",
    "\n",
    "\n",
    "# without top_genre\n",
    "new_genres = empty_genre_top.copy()\n",
    "# applies udf to extract top_genre\n",
    "new_genres['genre_top'] = empty_genre_top['genres_all'].apply(get_parent_genre)\n",
    "\n",
    "generalised_tracks_amount = new_genres['genre_top'].value_counts().values.sum()\n",
    "\n",
    "print(\"new tracks from genre generalisation:\")\n",
    "print(new_genres['genre_top'].value_counts().to_dict())\n",
    "\n",
    "print(\"summed:\")\n",
    "print(generalised_tracks_amount)\n"
   ]
  },
  {
   "cell_type": "code",
   "execution_count": 15,
   "id": "b14e2bdc-95a9-41dd-8250-98be131f3ca3",
   "metadata": {},
   "outputs": [
    {
     "name": "stdout",
     "output_type": "stream",
     "text": [
      "Percentage of songs that were unlabeled in the entire dataset but were retrieved due to generalisation\n"
     ]
    },
    {
     "data": {
      "text/plain": [
       "{'Electronic': '8.55%',\n",
       " 'Rock': '8.46%',\n",
       " 'Hip-Hop': '2.23%',\n",
       " 'Classical': '0.76%',\n",
       " 'Pop': '0.62%'}"
      ]
     },
     "execution_count": 15,
     "metadata": {},
     "output_type": "execute_result"
    }
   ],
   "source": [
    "percentage_gained_from_generalisation = (\n",
    "    new_genres[new_genres['genre_top'].notnull()]['genre_top'].value_counts() \n",
    "        / \n",
    "    empty_genre_top.shape[0] * 100\n",
    ").to_dict()\n",
    "\n",
    "formatted_gained_from_generalisation = formatted = {\n",
    "    k: f\"{v:.2f}%\" for k, v in percentage_gained_from_generalisation.items()\n",
    "}\n",
    "\n",
    " # procentowy zysk gatunków przez scalenie\n",
    "\n",
    "print(\"Percentage of songs that were unlabeled in the entire dataset but were retrieved due to generalisation\")\n",
    "formatted_gained_from_generalisation"
   ]
  },
  {
   "cell_type": "code",
   "execution_count": 16,
   "id": "646008c9-1dba-4967-aad2-1018c1088d70",
   "metadata": {},
   "outputs": [],
   "source": [
    "df = pd.concat([target_ready_tracks, new_genres], ignore_index=True)"
   ]
  },
  {
   "cell_type": "code",
   "execution_count": 17,
   "id": "6949184c-375d-480b-987a-b88c507c1739",
   "metadata": {},
   "outputs": [
    {
     "name": "stdout",
     "output_type": "stream",
     "text": [
      "Total songs ready for signal extraction\n"
     ]
    },
    {
     "data": {
      "text/plain": [
       "{'Rock': 19002,\n",
       " 'Electronic': 14242,\n",
       " 'Hip-Hop': 4824,\n",
       " 'Pop': 2687,\n",
       " 'Classical': 1663}"
      ]
     },
     "execution_count": 17,
     "metadata": {},
     "output_type": "execute_result"
    }
   ],
   "source": [
    "print(\"Total songs ready for signal extraction\")\n",
    "df['genre_top'].value_counts().to_dict()"
   ]
  },
  {
   "cell_type": "markdown",
   "id": "fc2a6294-a144-4caf-b636-3a65878dfb09",
   "metadata": {},
   "source": [
    "# Calculating gain in %"
   ]
  },
  {
   "cell_type": "code",
   "execution_count": 18,
   "id": "2473bcc0-cfb2-43bf-8783-208e95e28387",
   "metadata": {},
   "outputs": [
    {
     "name": "stdout",
     "output_type": "stream",
     "text": [
      "Gain explained in percents\n"
     ]
    },
    {
     "data": {
      "text/plain": [
       "{'Electronic': '34.19%',\n",
       " 'Hip-Hop': '26.37%',\n",
       " 'Classical': '26.04%',\n",
       " 'Rock': '25.37%',\n",
       " 'Pop': '13.21%'}"
      ]
     },
     "execution_count": 18,
     "metadata": {},
     "output_type": "execute_result"
    }
   ],
   "source": [
    "gain = (\n",
    "    new_genres[new_genres['genre_top'].notnull()]['genre_top'].value_counts() \n",
    "    / \n",
    "    df['genre_top'].value_counts() * 100\n",
    " ).sort_values(ascending=False).to_dict() \n",
    "\n",
    "gain_percent_wise = {\n",
    "    k: f\"{v:.2f}%\" for k, v in gain.items()\n",
    "}\n",
    "\n",
    "print(\"Gain explained in percents\")\n",
    "gain_percent_wise"
   ]
  },
  {
   "cell_type": "code",
   "execution_count": 19,
   "id": "9f575ec1-847c-4bd8-a898-6a1c2f1ac695",
   "metadata": {},
   "outputs": [
    {
     "data": {
      "image/png": "[encoded data removed]",
      "text/plain": [
       "<Figure size 1000x700 with 1 Axes>"
      ]
     },
     "metadata": {},
     "output_type": "display_data"
    }
   ],
   "source": [
    "columns_of_interest = [\"Unnamed: 0\", \"title.1\", \"name\", \"bit_rate\", \"duration\", \"genre_top\"]\n",
    "\n",
    "clean = df[df['genre_top'].notnull()][columns_of_interest].copy().rename(columns={\"Unnamed: 0\": \"fma_track_id\"})\n",
    "\n",
    "\n",
    "class_distribution = (clean['genre_top'].value_counts() / clean.shape[0] * 100)\n",
    "\n",
    "fig = plt.figure(figsize=(10,7))\n",
    "plt.title(\"Class distribution in ready for signal extraction dataset\")\n",
    "plt.pie(x=class_distribution.values, \n",
    "        labels=class_distribution.index,\n",
    "        autopct='%1.1f%%')\n",
    "plt.show()"
   ]
  },
  {
   "cell_type": "code",
   "execution_count": 20,
   "id": "cdfcd256-f2cf-430b-aa08-eb6ab33aebef",
   "metadata": {},
   "outputs": [
    {
     "data": {
      "text/plain": [
       "genre_top\n",
       "Rock          19002\n",
       "Electronic    14242\n",
       "Hip-Hop        4824\n",
       "Pop            2687\n",
       "Classical      1663\n",
       "Name: count, dtype: int64"
      ]
     },
     "execution_count": 20,
     "metadata": {},
     "output_type": "execute_result"
    }
   ],
   "source": [
    "clean['genre_top'].value_counts()"
   ]
  },
  {
   "cell_type": "code",
   "execution_count": 21,
   "id": "8ab6dc8b-f83a-45e2-aeea-176358facbbf",
   "metadata": {},
   "outputs": [
    {
     "name": "stdout",
     "output_type": "stream",
     "text": [
      "clean tracks dataframe was saved at /mnt/e/fma_metadata\n"
     ]
    },
    {
     "data": {
      "text/html": [
       "<div>\n",
       "<style scoped>\n",
       "    .dataframe tbody tr th:only-of-type {\n",
       "        vertical-align: middle;\n",
       "    }\n",
       "\n",
       "    .dataframe tbody tr th {\n",
       "        vertical-align: top;\n",
       "    }\n",
       "\n",
       "    .dataframe thead th {\n",
       "        text-align: right;\n",
       "    }\n",
       "</style>\n",
       "<table border=\"1\" class=\"dataframe\">\n",
       "  <thead>\n",
       "    <tr style=\"text-align: right;\">\n",
       "      <th></th>\n",
       "      <th>fma_track_id</th>\n",
       "      <th>title.1</th>\n",
       "      <th>name</th>\n",
       "      <th>bit_rate</th>\n",
       "      <th>duration</th>\n",
       "      <th>genre_top</th>\n",
       "    </tr>\n",
       "  </thead>\n",
       "  <tbody>\n",
       "    <tr>\n",
       "      <th>0</th>\n",
       "      <td>2</td>\n",
       "      <td>Food</td>\n",
       "      <td>AWOL</td>\n",
       "      <td>256000.0</td>\n",
       "      <td>168.0</td>\n",
       "      <td>Hip-Hop</td>\n",
       "    </tr>\n",
       "    <tr>\n",
       "      <th>1</th>\n",
       "      <td>3</td>\n",
       "      <td>Electric Ave</td>\n",
       "      <td>AWOL</td>\n",
       "      <td>256000.0</td>\n",
       "      <td>237.0</td>\n",
       "      <td>Hip-Hop</td>\n",
       "    </tr>\n",
       "    <tr>\n",
       "      <th>2</th>\n",
       "      <td>5</td>\n",
       "      <td>This World</td>\n",
       "      <td>AWOL</td>\n",
       "      <td>256000.0</td>\n",
       "      <td>206.0</td>\n",
       "      <td>Hip-Hop</td>\n",
       "    </tr>\n",
       "    <tr>\n",
       "      <th>3</th>\n",
       "      <td>10</td>\n",
       "      <td>Freeway</td>\n",
       "      <td>Kurt Vile</td>\n",
       "      <td>192000.0</td>\n",
       "      <td>161.0</td>\n",
       "      <td>Pop</td>\n",
       "    </tr>\n",
       "    <tr>\n",
       "      <th>4</th>\n",
       "      <td>134</td>\n",
       "      <td>Street Music</td>\n",
       "      <td>AWOL</td>\n",
       "      <td>256000.0</td>\n",
       "      <td>207.0</td>\n",
       "      <td>Hip-Hop</td>\n",
       "    </tr>\n",
       "  </tbody>\n",
       "</table>\n",
       "</div>"
      ],
      "text/plain": [
       "  fma_track_id       title.1       name  bit_rate  duration genre_top\n",
       "0            2          Food       AWOL  256000.0     168.0   Hip-Hop\n",
       "1            3  Electric Ave       AWOL  256000.0     237.0   Hip-Hop\n",
       "2            5    This World       AWOL  256000.0     206.0   Hip-Hop\n",
       "3           10       Freeway  Kurt Vile  192000.0     161.0       Pop\n",
       "4          134  Street Music       AWOL  256000.0     207.0   Hip-Hop"
      ]
     },
     "execution_count": 21,
     "metadata": {},
     "output_type": "execute_result"
    }
   ],
   "source": [
    "notebook_utilities.save_dataset(artifacts_folder=metadata_dir, a=clean, name=\"tracks_clean\")\n",
    "\n",
    "print(f\"clean tracks dataframe was saved at {metadata_dir}\")\n",
    "\n",
    "clean.head()"
   ]
  }
 ],
 "metadata": {
  "kernelspec": {
   "display_name": "Python 3 (ipykernel)",
   "language": "python",
   "name": "python3"
  },
  "language_info": {
   "codemirror_mode": {
    "name": "ipython",
    "version": 3
   },
   "file_extension": ".py",
   "mimetype": "text/x-python",
   "name": "python",
   "nbconvert_exporter": "python",
   "pygments_lexer": "ipython3",
   "version": "3.12.11"
  }
 },
 "nbformat": 4,
 "nbformat_minor": 5
}
