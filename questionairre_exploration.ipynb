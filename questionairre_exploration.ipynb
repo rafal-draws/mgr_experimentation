{
 "cells": [
  {
   "cell_type": "code",
   "execution_count": 5,
   "id": "4ce10106-a0b3-4968-9a72-a4cc4b20124c",
   "metadata": {},
   "outputs": [],
   "source": [
    "import librosa\n",
    "import numpy as np\n",
    "import os\n"
   ]
  },
  {
   "cell_type": "code",
   "execution_count": 6,
   "id": "37c2c843-40d8-4f3a-bc3c-6102a2df3400",
   "metadata": {},
   "outputs": [],
   "source": [
    "one_s_files = os.path.join(\"/\",\"home\",\"rwd\",\"questionary\",\"1s\")\n",
    "metadata_path = os.path.join(\"/\",\"metadata\")"
   ]
  },
  {
   "cell_type": "code",
   "execution_count": 7,
   "id": "e58386b7-5da4-4e8d-b53d-da98c0512b61",
   "metadata": {},
   "outputs": [
    {
     "data": {
      "text/plain": [
       "['jocelynpook-maskedball-1s.mp4',\n",
       " 'deathgrips-ongp-1s.mp4',\n",
       " 'wardruna-gra-1s.mp4',\n",
       " 'chelseawolfe-16psyche-1s.mp3',\n",
       " 'jeanmicheljarre-oxygene4-1s.mp3']"
      ]
     },
     "execution_count": 7,
     "metadata": {},
     "output_type": "execute_result"
    }
   ],
   "source": [
    "os.listdir(one_s_files)[:5]"
   ]
  },
  {
   "cell_type": "code",
   "execution_count": 8,
   "id": "3de7a788-0036-4392-80a2-ca281294423d",
   "metadata": {},
   "outputs": [],
   "source": [
    "dvorak_1s, sr = librosa.load(os.path.join(one_s_files, \"dvorak-symphony9-1s.mp3\"))"
   ]
  },
  {
   "cell_type": "code",
   "execution_count": 9,
   "id": "e08e6b1c-dc44-43ad-bbee-7ce55bf6e2bc",
   "metadata": {},
   "outputs": [],
   "source": [
    "gotye_1s, _ = librosa.load(os.path.join(one_s_files, \"gotye-somebodythatiusedtoknow-1s.mp3\"))"
   ]
  },
  {
   "cell_type": "code",
   "execution_count": 10,
   "id": "d7f4753a-c525-4518-a840-4ae9fec158c2",
   "metadata": {},
   "outputs": [],
   "source": [
    "creep_1s, _ = librosa.load(os.path.join(one_s_files, \"radiohead-creep-1s.mp3\"))"
   ]
  },
  {
   "cell_type": "code",
   "execution_count": 11,
   "id": "dde1c963-da3e-414e-90e0-e1d6c7d4c30d",
   "metadata": {},
   "outputs": [],
   "source": [
    "mf_doom_1s, _ = librosa.load(os.path.join(one_s_files, \"mfdoom-hoecakes-1s.mp3\"))"
   ]
  },
  {
   "cell_type": "code",
   "execution_count": 12,
   "id": "ee661353-2f04-4643-9348-62f6ccaaaaa4",
   "metadata": {},
   "outputs": [],
   "source": [
    "icecube_1s, _ = librosa.load(os.path.join(one_s_files, \"icecube-itwasagoodday-1s.mp3\"))"
   ]
  },
  {
   "cell_type": "code",
   "execution_count": 13,
   "id": "e223c76d-bd2b-43b6-8247-af3a8e768239",
   "metadata": {},
   "outputs": [],
   "source": [
    "mf_doom_1s, _ = librosa.load(os.path.join(one_s_files, \"mfdoom-hoecakes-1s.mp3\"))"
   ]
  },
  {
   "cell_type": "code",
   "execution_count": 14,
   "id": "4ba27b7b-159d-4099-af39-a1ed8207a1dc",
   "metadata": {},
   "outputs": [],
   "source": [
    "lady_gaga_1s, _ = librosa.load(os.path.join(one_s_files, \"ladygaga-pokerface-1s.mp3\"))"
   ]
  },
  {
   "cell_type": "code",
   "execution_count": 15,
   "id": "6ca16d5e-aa59-492d-b2e6-3e028da3e7f1",
   "metadata": {},
   "outputs": [],
   "source": [
    "paranoid_1s, _ = librosa.load(os.path.join(one_s_files, \"blacksabbath-paranoid-1s.mp3\"))"
   ]
  },
  {
   "cell_type": "code",
   "execution_count": 16,
   "id": "d01112cb-52c5-4f6d-96fc-7f0ac9087a7a",
   "metadata": {},
   "outputs": [],
   "source": [
    "steady_pace_1s, _ = librosa.load(os.path.join(one_s_files, \"vtss-steadypace-1s.mp3\"))"
   ]
  },
  {
   "cell_type": "code",
   "execution_count": 17,
   "id": "967e4ec7-1a13-4ef7-8645-095daa6a93ba",
   "metadata": {},
   "outputs": [],
   "source": [
    "oxygene_1s, _ = librosa.load(os.path.join(one_s_files, \"jeanmicheljarre-oxygene4-1s.mp3\"))"
   ]
  },
  {
   "cell_type": "code",
   "execution_count": null,
   "id": "47d8305b-ea1a-4db1-a3c3-83feedc5b4d9",
   "metadata": {},
   "outputs": [],
   "source": []
  },
  {
   "cell_type": "code",
   "execution_count": null,
   "id": "98dfda28-6137-4f2a-aeab-9d8522cff005",
   "metadata": {},
   "outputs": [],
   "source": []
  }
 ],
 "metadata": {
  "kernelspec": {
   "display_name": "Python 3",
   "language": "python",
   "name": "python3"
  },
  "language_info": {
   "codemirror_mode": {
    "name": "ipython",
    "version": 3
   },
   "file_extension": ".py",
   "mimetype": "text/x-python",
   "name": "python",
   "nbconvert_exporter": "python",
   "pygments_lexer": "ipython3",
   "version": "3.12.8"
  }
 },
 "nbformat": 4,
 "nbformat_minor": 5
}
